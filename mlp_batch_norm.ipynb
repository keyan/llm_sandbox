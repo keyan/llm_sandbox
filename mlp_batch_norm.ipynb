{
 "cells": [
  {
   "cell_type": "markdown",
   "metadata": {},
   "source": [
    "# mlp reimplementation\n",
    "\n",
    "Reproducing https://www.jmlr.org/papers/volume3/bengio03a/bengio03a.pdf\n",
    "\n",
    "Code written while following along with: https://www.youtube.com/watch?v=TCH_1BHY58I"
   ]
  },
  {
   "cell_type": "code",
   "execution_count": 1,
   "metadata": {
    "id": "-cjs9YfOG9Tc"
   },
   "outputs": [],
   "source": [
    "import torch\n",
    "from torch import nn\n",
    "import torch.nn.functional as F\n",
    "from torchvision import datasets\n",
    "from torchvision.transforms import ToTensor\n",
    "import numpy as np\n",
    "import matplotlib.pyplot as plt\n",
    "%matplotlib inline"
   ]
  },
  {
   "cell_type": "code",
   "execution_count": 2,
   "metadata": {
    "id": "0gnpFzx957qu"
   },
   "outputs": [],
   "source": [
    "import string\n",
    "\n",
    "stoi = {ch: i+1 for i, ch in enumerate(string.ascii_lowercase)}\n",
    "stoi['.'] = 0\n",
    "itos = {i: ch for ch, i in stoi.items()}"
   ]
  },
  {
   "cell_type": "code",
   "execution_count": 3,
   "metadata": {
    "colab": {
     "base_uri": "https://localhost:8080/"
    },
    "id": "iwOfp7JR4s9R",
    "outputId": "69234208-5c5f-49d0-cbcd-6ee56a3123e3"
   },
   "outputs": [],
   "source": [
    "words = open('data/names.txt', 'r').read().splitlines()"
   ]
  },
  {
   "cell_type": "code",
   "execution_count": 94,
   "metadata": {},
   "outputs": [],
   "source": [
    "#### Hyperparameters\n",
    "\n",
    "# Num of features for each tri-gram embedding to learn\n",
    "m_dim = 10\n",
    "\n",
    "# possible characters, the vocabulary size, this isn't actually tuneable as its len(alphas) + 1 for delimiter\n",
    "v = 27\n",
    "\n",
    "# Number of neurons in hidden layer\n",
    "h = 200\n",
    "\n",
    "# This is n in the paper, the size of the \"context\" or look-back window\n",
    "block_size = n = 3"
   ]
  },
  {
   "cell_type": "code",
   "execution_count": 95,
   "metadata": {},
   "outputs": [],
   "source": [
    "#### Data prep\n",
    "\n",
    "def build_dataset(in_words):\n",
    "    # Create the dataset, where the inputs are a trigram context window -> outputs are the next character\n",
    "    X, Y = [], []\n",
    "    \n",
    "    for w in in_words:\n",
    "        w = w + '.'\n",
    "        context = [0] * block_size\n",
    "        for char in list(w):\n",
    "            X.append(context)\n",
    "            Y.append(stoi[char])\n",
    "            context = context[1:] + [stoi[char]]\n",
    "    \n",
    "    X = torch.tensor(X)\n",
    "    Y = torch.tensor(Y)\n",
    "    return X, Y\n",
    "\n",
    "\n",
    "import random\n",
    "random.shuffle(words)\n",
    "n1 = int(0.8*len(words))\n",
    "n2 = int(0.9*len(words))\n",
    "\n",
    "X_train, Y_train = build_dataset(words[:n1])\n",
    "X_dev, Y_dev = build_dataset(words[n1:n2])\n",
    "X_test, Y_test = build_dataset(words[n2:])"
   ]
  },
  {
   "cell_type": "code",
   "execution_count": 97,
   "metadata": {},
   "outputs": [],
   "source": [
    "#### Parameter initialization\n",
    "\n",
    "# Embedding each character to 2-dimensional feature space\n",
    "C = torch.rand((v, m_dim))\n",
    "\n",
    "# Hidden layer weights and biases\n",
    "W1 = torch.randn((block_size*m_dim, h)) * 0.1\n",
    "b1 = torch.randn(h) * 0.01\n",
    "\n",
    "# Output layer weights and biases\n",
    "W2 = torch.randn((h, v)) * 0.01\n",
    "b2 = torch.randn(v) * 0\n",
    "\n",
    "for p in [C, W1, b1, W2, b2]:\n",
    "    if not p.requires_grad:\n",
    "        p.requires_grad = True"
   ]
  },
  {
   "cell_type": "code",
   "execution_count": null,
   "metadata": {},
   "outputs": [
    {
     "name": "stdout",
     "output_type": "stream",
     "text": [
      "Batch: 0, training loss: 3.296767473220825\n",
      "Batch: 10000, training loss: 2.417764663696289\n",
      "Batch: 20000, training loss: 1.9988784790039062\n"
     ]
    }
   ],
   "source": [
    "# Training loop\n",
    "batch_size = 32\n",
    "\n",
    "stepi = []\n",
    "lossi = []\n",
    "dead_neurons = []\n",
    "\n",
    "for i in range(200000):\n",
    "    # minibatch\n",
    "    # select batch_size random indices from the training data\n",
    "    idxs = torch.randint(0, X_train.shape[0], (batch_size,))\n",
    "    idx = X_train[idxs]\n",
    "\n",
    "    # Forwards pass\n",
    "    embedding = C[idx]\n",
    "    # Lots of dead neurons when using ReLU, but turns out this wasn't the issue causing\n",
    "    # bad performance at first. Seems to work with tanh/leaky_ReLU/ReLU all the same.\n",
    "    #z1 = F.relu(embedding.view(-1, block_size*m_dim) @ W1 + b1) # (batch_size, h)\n",
    "    #z1 = F.leaky_relu(embedding.view(-1, block_size*m_dim) @ W1 + b1) # (batch_size, h)\n",
    "    z1 = F.tanh(embedding.view(-1, block_size*m_dim) @ W1 + b1) # (batch_size, h)\n",
    "    logits = z1 @ W2 + b2 # (batch_size, v)\n",
    "    loss = F.cross_entropy(logits, Y_train[idxs])\n",
    "\n",
    "    # Backwards pass\n",
    "    for params in [C, W1, b1, W2, b2]:\n",
    "        params.grad = None\n",
    "\n",
    "    loss.backward()\n",
    "\n",
    "    learning_rate = 0.1\n",
    "    dead = 0\n",
    "    for p in [C, W1, b1, W2, b2]:\n",
    "        dead += torch.sum((p.data == 0).int()).item()\n",
    "        p.data += -learning_rate * p.grad\n",
    "\n",
    "    dead_neurons.append(dead)\n",
    "    stepi.append(i)\n",
    "    lossi.append(loss.log10().item())\n",
    "    if i % 10000 == 0:\n",
    "        print(f'Batch: {i}, training loss: {loss.item()}')"
   ]
  },
  {
   "cell_type": "code",
   "execution_count": null,
   "metadata": {},
   "outputs": [],
   "source": [
    "plt.plot(stepi, lossi)"
   ]
  },
  {
   "cell_type": "code",
   "execution_count": null,
   "metadata": {},
   "outputs": [],
   "source": [
    "plt.hist(z1.view(-1).tolist(), 50);"
   ]
  },
  {
   "cell_type": "code",
   "execution_count": null,
   "metadata": {},
   "outputs": [],
   "source": []
  },
  {
   "cell_type": "code",
   "execution_count": 89,
   "metadata": {},
   "outputs": [
    {
     "name": "stdout",
     "output_type": "stream",
     "text": [
      "dev split loss: 2.2908425331115723\n",
      "test split loss: 2.2985916137695312\n"
     ]
    }
   ],
   "source": [
    "@torch.no_grad()\n",
    "def split_loss(split):\n",
    "    data, labels = {\n",
    "        'dev': (X_dev, Y_dev),\n",
    "        'test': (X_test, Y_test),\n",
    "    }[split]\n",
    "    \n",
    "    embedding = C[data]\n",
    "    z1 = F.tanh(embedding.view(-1, block_size*m_dim) @ W1 + b1)\n",
    "    logits = z1 @ W2 + b2\n",
    "    loss = F.cross_entropy(logits, labels)\n",
    "    print(f'{split} split loss: {loss}')\n",
    "\n",
    "split_loss('dev')\n",
    "split_loss('test')"
   ]
  },
  {
   "cell_type": "code",
   "execution_count": 84,
   "metadata": {},
   "outputs": [
    {
     "name": "stdout",
     "output_type": "stream",
     "text": [
      "aniyla.\n",
      "rosen.\n",
      "karala.\n",
      "gez.\n",
      "dayne.\n",
      "kaleia.\n",
      "aunika.\n",
      "griellyessa\n",
      "myra.\n",
      "iva.\n"
     ]
    }
   ],
   "source": [
    "# Test it out\n",
    "\n",
    "for _ in range(10):\n",
    "    out = []\n",
    "    idx = 0\n",
    "    context = [0] * block_size\n",
    "    while True:\n",
    "        emd = C[context].view((1, block_size*m_dim))\n",
    "        #z1 = F.leaky_relu(emd @ W1 + b1)\n",
    "        z1 = F.tanh(emd @ W1 + b1)\n",
    "        z2 = F.softmax(z1 @ W2 + b2, dim=1)\n",
    "        idx = torch.multinomial(z2, num_samples=1, replacement=True).item()\n",
    "        out.append(itos[idx])\n",
    "        context = context[1:] + [idx]\n",
    "        if idx == 0:\n",
    "            break\n",
    "\n",
    "        # debug infinite loops...\n",
    "        if len(out) > 10:\n",
    "            break\n",
    "    \n",
    "    print(''.join(out))"
   ]
  }
 ],
 "metadata": {
  "colab": {
   "provenance": []
  },
  "kernelspec": {
   "display_name": "Python 3 (ipykernel)",
   "language": "python",
   "name": "python3"
  },
  "language_info": {
   "codemirror_mode": {
    "name": "ipython",
    "version": 3
   },
   "file_extension": ".py",
   "mimetype": "text/x-python",
   "name": "python",
   "nbconvert_exporter": "python",
   "pygments_lexer": "ipython3",
   "version": "3.12.2"
  }
 },
 "nbformat": 4,
 "nbformat_minor": 4
}
