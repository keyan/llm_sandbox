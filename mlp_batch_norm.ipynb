{
 "cells": [
  {
   "cell_type": "markdown",
   "metadata": {},
   "source": [
    "# mlp reimplementation\n",
    "\n",
    "Reproducing https://www.jmlr.org/papers/volume3/bengio03a/bengio03a.pdf\n",
    "\n",
    "Code written while following along with: https://www.youtube.com/watch?v=TCH_1BHY58I"
   ]
  },
  {
   "cell_type": "code",
   "execution_count": 2,
   "metadata": {
    "id": "-cjs9YfOG9Tc"
   },
   "outputs": [],
   "source": [
    "import torch\n",
    "from torch import nn\n",
    "import torch.nn.functional as F\n",
    "from torchvision import datasets\n",
    "from torchvision.transforms import ToTensor\n",
    "import numpy as np\n",
    "import matplotlib.pyplot as plt\n",
    "%matplotlib inline"
   ]
  },
  {
   "cell_type": "code",
   "execution_count": 3,
   "metadata": {
    "id": "0gnpFzx957qu"
   },
   "outputs": [],
   "source": [
    "import string\n",
    "\n",
    "stoi = {ch: i+1 for i, ch in enumerate(string.ascii_lowercase)}\n",
    "stoi['.'] = 0\n",
    "itos = {i: ch for ch, i in stoi.items()}"
   ]
  },
  {
   "cell_type": "code",
   "execution_count": 4,
   "metadata": {
    "colab": {
     "base_uri": "https://localhost:8080/"
    },
    "id": "iwOfp7JR4s9R",
    "outputId": "69234208-5c5f-49d0-cbcd-6ee56a3123e3"
   },
   "outputs": [],
   "source": [
    "words = open('data/names.txt', 'r').read().splitlines()"
   ]
  },
  {
   "cell_type": "code",
   "execution_count": 5,
   "metadata": {},
   "outputs": [],
   "source": [
    "#### Hyperparameters\n",
    "\n",
    "# Num of features for each tri-gram embedding to learn\n",
    "m_dim = 10\n",
    "\n",
    "# possible characters, the vocabulary size, this isn't actually tuneable as its len(alphas) + 1 for delimiter\n",
    "v = 27\n",
    "\n",
    "# Number of neurons in hidden layer\n",
    "h = 200\n",
    "\n",
    "# This is n in the paper, the size of the \"context\" or look-back window\n",
    "block_size = n = 3"
   ]
  },
  {
   "cell_type": "code",
   "execution_count": 6,
   "metadata": {},
   "outputs": [],
   "source": [
    "#### Data prep\n",
    "\n",
    "def build_dataset(in_words):\n",
    "    # Create the dataset, where the inputs are a trigram context window -> outputs are the next character\n",
    "    X, Y = [], []\n",
    "    \n",
    "    for w in in_words:\n",
    "        w = w + '.'\n",
    "        context = [0] * block_size\n",
    "        for char in list(w):\n",
    "            X.append(context)\n",
    "            Y.append(stoi[char])\n",
    "            context = context[1:] + [stoi[char]]\n",
    "    \n",
    "    X = torch.tensor(X)\n",
    "    Y = torch.tensor(Y)\n",
    "    return X, Y\n",
    "\n",
    "\n",
    "import random\n",
    "random.shuffle(words)\n",
    "n1 = int(0.8*len(words))\n",
    "n2 = int(0.9*len(words))\n",
    "\n",
    "X_train, Y_train = build_dataset(words[:n1])\n",
    "X_dev, Y_dev = build_dataset(words[n1:n2])\n",
    "X_test, Y_test = build_dataset(words[n2:])"
   ]
  },
  {
   "cell_type": "code",
   "execution_count": 111,
   "metadata": {},
   "outputs": [],
   "source": [
    "#### Parameter initialization\n",
    "\n",
    "# Embedding each character to 2-dimensional feature space\n",
    "C = torch.rand((v, m_dim))\n",
    "\n",
    "# Hidden layer weights and biases\n",
    "W1 = torch.randn((block_size*m_dim, h)) * ((5/3) / ((block_size*m_dim)**0.5))\n",
    "b1 = torch.randn(h) * 0.01\n",
    "\n",
    "# Output layer weights and biases\n",
    "W2 = torch.randn((h, v)) * 0.01\n",
    "b2 = torch.randn(v) * 0\n",
    "\n",
    "# Batchnorm gain and bias\n",
    "bn_gain = torch.ones((1, h))\n",
    "bn_bias = torch.zeros((1, h))\n",
    "# Keep estimate of BatchNorm across entire training set (see later for explanation).\n",
    "batch_mean_running = torch.zeros((1, h))\n",
    "batch_std_running = torch.zeros((1, h))\n",
    "\n",
    "for p in [C, W1, b1, W2, b2, bn_gain, bn_bias]:\n",
    "    if not p.requires_grad:\n",
    "        p.requires_grad = True"
   ]
  },
  {
   "cell_type": "code",
   "execution_count": 146,
   "metadata": {},
   "outputs": [
    {
     "name": "stdout",
     "output_type": "stream",
     "text": [
      "Batch: 0, training loss: 1.813681721687317\n",
      "Batch: 10000, training loss: 2.112983465194702\n",
      "Batch: 20000, training loss: 2.2902674674987793\n",
      "Batch: 30000, training loss: 1.8632549047470093\n",
      "Batch: 40000, training loss: 2.069182872772217\n",
      "Batch: 50000, training loss: 1.8910508155822754\n",
      "Batch: 60000, training loss: 1.986188292503357\n",
      "Batch: 70000, training loss: 2.540534734725952\n",
      "Batch: 80000, training loss: 1.8417359590530396\n",
      "Batch: 90000, training loss: 2.210759162902832\n",
      "Batch: 100000, training loss: 1.5098668336868286\n",
      "Batch: 110000, training loss: 1.9481171369552612\n",
      "Batch: 120000, training loss: 2.094052791595459\n",
      "Batch: 130000, training loss: 2.122526168823242\n",
      "Batch: 140000, training loss: 2.173058271408081\n",
      "Batch: 150000, training loss: 2.011563777923584\n",
      "Batch: 160000, training loss: 2.302095413208008\n",
      "Batch: 170000, training loss: 1.9224581718444824\n",
      "Batch: 180000, training loss: 2.1060218811035156\n",
      "Batch: 190000, training loss: 2.2222321033477783\n"
     ]
    }
   ],
   "source": [
    "# Training loop\n",
    "batch_size = 32\n",
    "\n",
    "stepi = []\n",
    "lossi = []\n",
    "dead_neurons = []\n",
    "\n",
    "for i in range(200000):\n",
    "    # minibatch\n",
    "    # select batch_size random indices from the training data\n",
    "    idxs = torch.randint(0, X_train.shape[0], (batch_size,))\n",
    "    idx = X_train[idxs]\n",
    "\n",
    "    # Forward pass\n",
    "    embedding = C[idx]\n",
    "    pre_activation = embedding.view(-1, block_size*m_dim) @ W1 + b1\n",
    "\n",
    "    # Batch normalization, make the pre_activation distribution for each neuron to be a gaussian\n",
    "    batch_mean = pre_activation.mean(0, keepdim=True)\n",
    "    batch_std = pre_activation.std(0, keepdim=True)\n",
    "    pre_activation = bn_gain * (pre_activation - batch_mean) / batch_std + bn_bias\n",
    "\n",
    "    # BatchNorm running mean/std over all data\n",
    "    with torch.no_grad():\n",
    "        gamma = 0.0001\n",
    "        batch_mean_running = ((1 - gamma) * batch_mean_running) + (gamma * batch_mean)\n",
    "        batch_std_running = ((1 - gamma) * batch_std_running) + (gamma * batch_std)\n",
    "\n",
    "    # Non-linearity\n",
    "    z1 = F.tanh(pre_activation) # (batch_size, h)\n",
    "    # Output layer\n",
    "    logits = z1 @ W2 + b2 # (batch_size, v)\n",
    "    loss = F.cross_entropy(logits, Y_train[idxs])\n",
    "\n",
    "    # Backward pass\n",
    "    for params in [C, W1, b1, W2, b2, bn_gain, bn_bias]:\n",
    "        params.grad = None\n",
    "\n",
    "    loss.backward()\n",
    "\n",
    "    learning_rate = 0.1\n",
    "    dead = 0\n",
    "    for p in [C, W1, b1, W2, b2, bn_gain, bn_bias]:\n",
    "        dead += torch.sum((p.data == 0).int()).item()\n",
    "        p.data += -learning_rate * p.grad\n",
    "\n",
    "    dead_neurons.append(dead)\n",
    "    stepi.append(i)\n",
    "    lossi.append(loss.log10().item())\n",
    "    if i % 10000 == 0:\n",
    "        print(f'Batch: {i}, training loss: {loss.item()}')"
   ]
  },
  {
   "cell_type": "code",
   "execution_count": 113,
   "metadata": {},
   "outputs": [
    {
     "data": {
      "text/plain": [
       "[<matplotlib.lines.Line2D at 0x157f10890>]"
      ]
     },
     "execution_count": 113,
     "metadata": {},
     "output_type": "execute_result"
    },
    {
     "data": {
      "image/png": "[encoded data removed]",
      "text/plain": [
       "<Figure size 640x480 with 1 Axes>"
      ]
     },
     "metadata": {},
     "output_type": "display_data"
    }
   ],
   "source": [
    "plt.plot(stepi, lossi)"
   ]
  },
  {
   "cell_type": "code",
   "execution_count": 114,
   "metadata": {},
   "outputs": [
    {
     "data": {
      "image/png": "[encoded data removed]",
      "text/plain": [
       "<Figure size 640x480 with 1 Axes>"
      ]
     },
     "metadata": {},
     "output_type": "display_data"
    }
   ],
   "source": [
    "plt.hist(z1.view(-1).tolist(), 50);"
   ]
  },
  {
   "cell_type": "code",
   "execution_count": 115,
   "metadata": {},
   "outputs": [
    {
     "name": "stdout",
     "output_type": "stream",
     "text": [
      "dev split loss: 2.1512176990509033\n",
      "test split loss: 2.1582329273223877\n"
     ]
    }
   ],
   "source": [
    "@torch.no_grad()\n",
    "def split_loss(split):\n",
    "    data, labels = {\n",
    "        'dev': (X_dev, Y_dev),\n",
    "        'test': (X_test, Y_test),\n",
    "    }[split]\n",
    "    \n",
    "    embedding = C[data]\n",
    "\n",
    "    pre_activation = embedding.view(-1, block_size*m_dim) @ W1 + b1\n",
    "    \n",
    "    # Batch normalization\n",
    "    batch_mean = pre_activation.mean(0, keepdim=True)\n",
    "    batch_std = pre_activation.std(0, keepdim=True)\n",
    "    pre_activation = bn_gain * ((pre_activation - batch_mean) / batch_std) + bn_bias\n",
    "    \n",
    "    z1 = F.tanh(pre_activation)\n",
    "    logits = z1 @ W2 + b2\n",
    "    loss = F.cross_entropy(logits, labels)\n",
    "    print(f'{split} split loss: {loss}')\n",
    "\n",
    "split_loss('dev')\n",
    "split_loss('test')"
   ]
  },
  {
   "cell_type": "code",
   "execution_count": 140,
   "metadata": {},
   "outputs": [
    {
     "name": "stdout",
     "output_type": "stream",
     "text": [
      "True\n"
     ]
    }
   ],
   "source": [
    "# The forward pass now expects batches of examples.\n",
    "# How can we provide a meaningful value to the BatchNorm operation when we want\n",
    "# to work with single examples for the case of generating outputs?\n",
    "\n",
    "# Possible solutions:\n",
    "#     1. Calibrate a batch norm across the entire training set, use these at generation time (see below)\n",
    "#     2. Calculate an estimate for those values instead during training time\n",
    "\n",
    "\n",
    "with torch.no_grad():\n",
    "    emd = C[X_train]\n",
    "    pre_activation = emd.view(-1, block_size*m_dim) @ W1 + b1\n",
    "    bn_total_mean = pre_activation.mean(0, keepdim=True)\n",
    "    bn_total_std = pre_activation.std(0, keepdim=True)\n",
    "\n",
    "    #print(bn_total_mean, batch_mean_running)\n",
    "    print(torch.allclose(bn_total_mean, batch_mean_running, atol=2e-01, rtol=2e-01))\n",
    "    #torch.allclose(bn_total_std, batch_std_running, atol=1e-02, rtol=1e-01)"
   ]
  },
  {
   "cell_type": "code",
   "execution_count": 145,
   "metadata": {},
   "outputs": [
    {
     "name": "stdout",
     "output_type": "stream",
     "text": [
      "hesyn.\n",
      "wylie.\n",
      "lanyioniden\n",
      "evona.\n",
      "runyla.\n",
      "tuan.\n",
      "dhiaria.\n",
      "bia.\n",
      "jadi.\n",
      "spa.\n"
     ]
    }
   ],
   "source": [
    "# Test it out\n",
    "\n",
    "@torch.no_grad()\n",
    "def out():\n",
    "    for _ in range(10):\n",
    "        out = []\n",
    "        idx = 0\n",
    "        context = [0] * block_size\n",
    "        while True:\n",
    "            emd = C[context].view((1, block_size*m_dim))\n",
    "\n",
    "            pre_activation = emd @ W1 + b1\n",
    "            pre_activation = bn_gain * ((pre_activation - batch_mean_running) / batch_std_running) + bn_bias\n",
    "            \n",
    "            z1 = F.tanh(pre_activation)\n",
    "            z2 = F.softmax(z1 @ W2 + b2, dim=1)\n",
    "            idx = torch.multinomial(z2, num_samples=1, replacement=True).item()\n",
    "            out.append(itos[idx])\n",
    "            context = context[1:] + [idx]\n",
    "            if idx == 0:\n",
    "                break\n",
    "    \n",
    "            # debug infinite loops...\n",
    "            if len(out) > 10:\n",
    "                break\n",
    "        \n",
    "        print(''.join(out))\n",
    "\n",
    "out()"
   ]
  }
 ],
 "metadata": {
  "colab": {
   "provenance": []
  },
  "kernelspec": {
   "display_name": "Python 3 (ipykernel)",
   "language": "python",
   "name": "python3"
  },
  "language_info": {
   "codemirror_mode": {
    "name": "ipython",
    "version": 3
   },
   "file_extension": ".py",
   "mimetype": "text/x-python",
   "name": "python",
   "nbconvert_exporter": "python",
   "pygments_lexer": "ipython3",
   "version": "3.12.2"
  }
 },
 "nbformat": 4,
 "nbformat_minor": 4
}
