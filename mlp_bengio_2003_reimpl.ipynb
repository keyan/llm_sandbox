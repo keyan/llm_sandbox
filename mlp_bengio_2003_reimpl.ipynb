{
 "cells": [
  {
   "cell_type": "markdown",
   "metadata": {},
   "source": [
    "# mlp reimplementation\n",
    "\n",
    "Reproducing https://www.jmlr.org/papers/volume3/bengio03a/bengio03a.pdf\n",
    "\n",
    "Code written while following along with: https://www.youtube.com/watch?v=TCH_1BHY58I"
   ]
  },
  {
   "cell_type": "code",
   "execution_count": 190,
   "metadata": {
    "id": "-cjs9YfOG9Tc"
   },
   "outputs": [],
   "source": [
    "import torch\n",
    "from torch import nn\n",
    "import torch.nn.functional as F\n",
    "from torchvision import datasets\n",
    "from torchvision.transforms import ToTensor\n",
    "import numpy as np\n",
    "import matplotlib.pyplot as plt\n",
    "%matplotlib inline"
   ]
  },
  {
   "cell_type": "code",
   "execution_count": 191,
   "metadata": {
    "id": "0gnpFzx957qu"
   },
   "outputs": [],
   "source": [
    "import string\n",
    "\n",
    "stoi = {ch: i+1 for i, ch in enumerate(string.ascii_lowercase)}\n",
    "stoi['.'] = 0\n",
    "itos = {i: ch for ch, i in stoi.items()}"
   ]
  },
  {
   "cell_type": "code",
   "execution_count": 192,
   "metadata": {
    "colab": {
     "base_uri": "https://localhost:8080/"
    },
    "id": "iwOfp7JR4s9R",
    "outputId": "69234208-5c5f-49d0-cbcd-6ee56a3123e3"
   },
   "outputs": [],
   "source": [
    "words = open('data/names.txt', 'r').read().splitlines()"
   ]
  },
  {
   "cell_type": "code",
   "execution_count": 193,
   "metadata": {},
   "outputs": [
    {
     "data": {
      "text/plain": [
       "{1: 'a',\n",
       " 2: 'b',\n",
       " 3: 'c',\n",
       " 4: 'd',\n",
       " 5: 'e',\n",
       " 6: 'f',\n",
       " 7: 'g',\n",
       " 8: 'h',\n",
       " 9: 'i',\n",
       " 10: 'j',\n",
       " 11: 'k',\n",
       " 12: 'l',\n",
       " 13: 'm',\n",
       " 14: 'n',\n",
       " 15: 'o',\n",
       " 16: 'p',\n",
       " 17: 'q',\n",
       " 18: 'r',\n",
       " 19: 's',\n",
       " 20: 't',\n",
       " 21: 'u',\n",
       " 22: 'v',\n",
       " 23: 'w',\n",
       " 24: 'x',\n",
       " 25: 'y',\n",
       " 26: 'z',\n",
       " 0: '.'}"
      ]
     },
     "execution_count": 193,
     "metadata": {},
     "output_type": "execute_result"
    }
   ],
   "source": [
    "words[:8]\n",
    "itos"
   ]
  },
  {
   "cell_type": "code",
   "execution_count": 194,
   "metadata": {},
   "outputs": [
    {
     "name": "stdout",
     "output_type": "stream",
     "text": [
      "emma\n",
      "... ---> e\n",
      "..e ---> m\n",
      ".em ---> m\n",
      "emm ---> a\n",
      "mma ---> .\n",
      "olivia\n",
      "... ---> o\n",
      "..o ---> l\n",
      ".ol ---> i\n",
      "oli ---> v\n",
      "liv ---> i\n",
      "ivi ---> a\n",
      "via ---> .\n",
      "ava\n",
      "... ---> a\n",
      "..a ---> v\n",
      ".av ---> a\n",
      "ava ---> .\n",
      "isabella\n",
      "... ---> i\n",
      "..i ---> s\n",
      ".is ---> a\n",
      "isa ---> b\n",
      "sab ---> e\n",
      "abe ---> l\n",
      "bel ---> l\n",
      "ell ---> a\n",
      "lla ---> .\n",
      "sophia\n",
      "... ---> s\n",
      "..s ---> o\n",
      ".so ---> p\n",
      "sop ---> h\n",
      "oph ---> i\n",
      "phi ---> a\n",
      "hia ---> .\n"
     ]
    }
   ],
   "source": [
    "# This is n in the paper, the size of the \"context\" or look-back window\n",
    "block_size = n = 3\n",
    "\n",
    "# Create the dataset, where the inputs are a trigram context window -> outputs are the next character\n",
    "X, Y = [], []\n",
    "\n",
    "for w in words[:5]:\n",
    "    print(w)\n",
    "    w = w + '.'\n",
    "    context = [0] * block_size\n",
    "    for char in list(w):\n",
    "        X.append(context)\n",
    "        Y.append(stoi[char])\n",
    "\n",
    "        context_str = ''.join(itos[v] for v in context)\n",
    "        print(f'{context_str} ---> {char}')\n",
    "        context = context[1:] + [stoi[char]]\n",
    "\n",
    "X = torch.tensor(X)\n",
    "Y = torch.tensor(Y)"
   ]
  },
  {
   "cell_type": "code",
   "execution_count": 195,
   "metadata": {},
   "outputs": [],
   "source": [
    "# Hyperparameters\n",
    "m_dim = 2 # Num of features for each tri-gram embedding to learn\n",
    "v = 27    # possible characters, the vocabulary size\n",
    "h = 128    # Number of neurons in hidden layer"
   ]
  },
  {
   "cell_type": "code",
   "execution_count": 196,
   "metadata": {},
   "outputs": [
    {
     "data": {
      "text/plain": [
       "(torch.Size([32, 3]), torch.int64, torch.Size([32]), torch.int64)"
      ]
     },
     "execution_count": 196,
     "metadata": {},
     "output_type": "execute_result"
    }
   ],
   "source": [
    "X.shape, X.dtype, Y.shape, Y.dtype"
   ]
  },
  {
   "cell_type": "code",
   "execution_count": 197,
   "metadata": {},
   "outputs": [
    {
     "data": {
      "text/plain": [
       "tensor([[8.0462e-01, 1.5518e-01],\n",
       "        [2.4626e-01, 8.9149e-01],\n",
       "        [9.3496e-04, 1.1522e-01],\n",
       "        [6.4226e-01, 4.2484e-01],\n",
       "        [3.2724e-01, 2.1300e-01],\n",
       "        [4.0775e-01, 5.9286e-01],\n",
       "        [3.9953e-04, 8.2746e-01],\n",
       "        [1.5281e-01, 2.2578e-01],\n",
       "        [1.3334e-01, 9.5502e-01],\n",
       "        [2.1844e-01, 3.3758e-01],\n",
       "        [3.5089e-01, 3.2088e-01],\n",
       "        [1.2705e-02, 1.1382e-02],\n",
       "        [9.6287e-01, 8.0430e-01],\n",
       "        [1.0194e-01, 6.3912e-01],\n",
       "        [5.6108e-01, 4.7525e-01],\n",
       "        [2.7224e-01, 8.9344e-01],\n",
       "        [6.0283e-01, 6.7684e-01],\n",
       "        [6.8316e-01, 5.5188e-01],\n",
       "        [7.3333e-01, 9.1147e-01],\n",
       "        [2.6761e-01, 5.6548e-01],\n",
       "        [1.6250e-01, 5.6767e-01],\n",
       "        [2.2849e-01, 8.4969e-01],\n",
       "        [4.2668e-01, 3.3682e-01],\n",
       "        [4.3616e-01, 1.9750e-01],\n",
       "        [4.6645e-01, 4.3366e-01],\n",
       "        [9.2169e-01, 3.4697e-01],\n",
       "        [3.7402e-01, 3.6730e-01]], requires_grad=True)"
      ]
     },
     "execution_count": 197,
     "metadata": {},
     "output_type": "execute_result"
    }
   ],
   "source": [
    "# Embedding each character to 2-dimensional feature space\n",
    "C = torch.rand((v, m_dim), requires_grad=True)\n",
    "C"
   ]
  },
  {
   "cell_type": "code",
   "execution_count": 198,
   "metadata": {},
   "outputs": [
    {
     "data": {
      "text/plain": [
       "torch.Size([32, 3, 2])"
      ]
     },
     "execution_count": 198,
     "metadata": {},
     "output_type": "execute_result"
    }
   ],
   "source": [
    "C[X].shape"
   ]
  },
  {
   "cell_type": "code",
   "execution_count": 199,
   "metadata": {},
   "outputs": [
    {
     "data": {
      "text/plain": [
       "torch.Size([32, 3, 2])"
      ]
     },
     "execution_count": 199,
     "metadata": {},
     "output_type": "execute_result"
    }
   ],
   "source": [
    "embedding = C[X]\n",
    "embedding.shape"
   ]
  },
  {
   "cell_type": "code",
   "execution_count": 200,
   "metadata": {},
   "outputs": [
    {
     "data": {
      "text/plain": [
       "(torch.Size([6, 128]), torch.Size([128]))"
      ]
     },
     "execution_count": 200,
     "metadata": {},
     "output_type": "execute_result"
    }
   ],
   "source": [
    "# Hidden layer weights\n",
    "W1 = torch.randn((block_size*m_dim, h), requires_grad=True)\n",
    "b1 = torch.randn(h, requires_grad=True)\n",
    "W1.shape, b1.shape"
   ]
  },
  {
   "cell_type": "code",
   "execution_count": 201,
   "metadata": {},
   "outputs": [
    {
     "name": "stdout",
     "output_type": "stream",
     "text": [
      "True\n",
      "True\n",
      "True\n"
     ]
    }
   ],
   "source": [
    "# Several ways to get the right dimension we want...\n",
    "a = embedding.reshape((32, block_size*m_dim))\n",
    "b = torch.cat([embedding[:, 0, :], embedding[:, 1, :], embedding[:, 2, :]], 1)\n",
    "c = torch.cat(torch.unbind(embedding, 1), 1)\n",
    "# View is the most effecient because it utilizes underlying storage and doesn't do a copy\n",
    "d = embedding.view((32, block_size*m_dim))\n",
    "\n",
    "print(torch.equal(a, b))\n",
    "print(torch.equal(b, c))\n",
    "print(torch.equal(b, d))"
   ]
  },
  {
   "cell_type": "code",
   "execution_count": 202,
   "metadata": {},
   "outputs": [
    {
     "data": {
      "text/plain": [
       "torch.Size([32, 128])"
      ]
     },
     "execution_count": 202,
     "metadata": {},
     "output_type": "execute_result"
    }
   ],
   "source": [
    "# 32x6 @ 6x128\n",
    "z1 = F.relu(embedding.view((32, block_size*m_dim)) @ W1 + b1)\n",
    "z1.shape"
   ]
  },
  {
   "cell_type": "code",
   "execution_count": 203,
   "metadata": {},
   "outputs": [],
   "source": [
    "W2 = torch.randn((h, v), requires_grad=True)\n",
    "b2 = torch.randn(v, requires_grad=True)\n",
    "\n",
    "# (examples, h) @ (h, v) = (examples, v) + v\n",
    "z2 = F.softmax(z1 @ W2 + b2, dim=1)\n",
    "\n",
    "# Manual softmax works too\n",
    "logits = z1 @ W2 + b2\n",
    "counts = logits.exp()\n",
    "out = counts / counts.sum(dim=1, keepdim=True)\n",
    "assert torch.allclose(out, z2)"
   ]
  },
  {
   "cell_type": "code",
   "execution_count": 204,
   "metadata": {},
   "outputs": [],
   "source": [
    "loss = -z2[torch.arange(32), Y].log().mean() + (0.01*(W1**2).mean())\n",
    "loss.backward()"
   ]
  },
  {
   "cell_type": "code",
   "execution_count": 205,
   "metadata": {},
   "outputs": [],
   "source": [
    "learning_rate = 0.1\n",
    "\n",
    "for params in [C, W1, b1, W2, b2]:\n",
    "    params.data += learning_rate * params.grad"
   ]
  },
  {
   "cell_type": "markdown",
   "metadata": {},
   "source": [
    "# Cleanup and make a training loop"
   ]
  },
  {
   "cell_type": "code",
   "execution_count": 206,
   "metadata": {},
   "outputs": [],
   "source": [
    "#### Hyperparameters\n",
    "\n",
    "# Num of features for each tri-gram embedding to learn\n",
    "m_dim = 2\n",
    "\n",
    "# possible characters, the vocabulary size, this isn't actually tuneable as its len(alphas) + 1 for delimiter\n",
    "v = 27\n",
    "\n",
    "# Number of neurons in hidden layer\n",
    "h = 128\n",
    "\n",
    "# This is n in the paper, the size of the \"context\" or look-back window\n",
    "block_size = n = 3"
   ]
  },
  {
   "cell_type": "code",
   "execution_count": 221,
   "metadata": {},
   "outputs": [],
   "source": [
    "#### Data prep\n",
    "\n",
    "def build_dataset(in_words):\n",
    "    # Create the dataset, where the inputs are a trigram context window -> outputs are the next character\n",
    "    X, Y = [], []\n",
    "    \n",
    "    for w in in_words:\n",
    "        w = w + '.'\n",
    "        context = [0] * block_size\n",
    "        for char in list(w):\n",
    "            X.append(context)\n",
    "            Y.append(stoi[char])\n",
    "            context = context[1:] + [stoi[char]]\n",
    "    \n",
    "    X = torch.tensor(X)\n",
    "    Y = torch.tensor(Y)\n",
    "    return X, Y\n",
    "\n",
    "\n",
    "import random\n",
    "random.shuffle(words)\n",
    "n1 = int(0.8*len(words))\n",
    "n2 = int(0.9*len(words))\n",
    "\n",
    "X_train, Y_train = build_dataset(words[:n1])\n",
    "X_dev, Y_dev = build_dataset(words[n1:n2])\n",
    "X_test, Y_test = build_dataset(words[n2:])"
   ]
  },
  {
   "cell_type": "code",
   "execution_count": 222,
   "metadata": {},
   "outputs": [],
   "source": [
    "#### Parameter initialization\n",
    "\n",
    "# Embedding each character to 2-dimensional feature space\n",
    "C = torch.rand((v, m_dim), requires_grad=True)\n",
    "\n",
    "# Hidden layer weights and biases\n",
    "W1 = torch.randn((block_size*m_dim, h), requires_grad=True)\n",
    "b1 = torch.randn(h, requires_grad=True)\n",
    "\n",
    "# Output layer weights and biases\n",
    "W2 = torch.randn((h, v), requires_grad=True)\n",
    "b2 = torch.randn(v, requires_grad=True)"
   ]
  },
  {
   "cell_type": "code",
   "execution_count": 210,
   "metadata": {},
   "outputs": [
    {
     "data": {
      "text/plain": [
       "torch.Size([27, 2])"
      ]
     },
     "execution_count": 210,
     "metadata": {},
     "output_type": "execute_result"
    }
   ],
   "source": [
    "C.shape"
   ]
  },
  {
   "cell_type": "code",
   "execution_count": 415,
   "metadata": {},
   "outputs": [
    {
     "name": "stdout",
     "output_type": "stream",
     "text": [
      "Batch: 0, loss: 2.3483049869537354\n",
      "tensor(2.0543, grad_fn=<NllLossBackward0>)\n"
     ]
    }
   ],
   "source": [
    "# Training loop\n",
    "batch_size = 32\n",
    "\n",
    "stepi = []\n",
    "lossi = []\n",
    "dead_neurons = []\n",
    "\n",
    "for i in range(200000):\n",
    "    # minibatch\n",
    "    # select batch_size random indices from the training data\n",
    "    idxs = torch.randint(0, X_train.shape[0], (batch_size,))\n",
    "    idx = X_train[idxs]\n",
    "\n",
    "    # Forwards pass\n",
    "    embedding = C[idx]\n",
    "    # Lots of dead neurons when using ReLU, but turns out this wasn't the issue causing\n",
    "    # bad performance at first. Seems to work with tanh/leaky_ReLU/ReLU all the same.\n",
    "    z1 = F.relu(embedding.view(-1, block_size*m_dim) @ W1 + b1) # (batch_size, h)\n",
    "    #z1 = F.leaky_relu(embedding.view(-1, block_size*m_dim) @ W1 + b1) # (batch_size, h)\n",
    "    logits = z1 @ W2 + b2 # (batch_size, v)\n",
    "    loss = F.cross_entropy(logits, Y_train[idxs])\n",
    "\n",
    "    # Backwards pass\n",
    "    for params in [C, W1, b1, W2, b2]:\n",
    "        params.grad = None\n",
    "\n",
    "    loss.backward()\n",
    "\n",
    "    learning_rate = 0.1\n",
    "    dead = 0\n",
    "    for params in [C, W1, b1, W2, b2]:\n",
    "        dead += torch.sum((params.grad == 0).int()).item()\n",
    "        params.data += -learning_rate * params.grad\n",
    "\n",
    "    dead_neurons.append(dead)\n",
    "    stepi.append(i)\n",
    "    lossi.append(loss.log10().item())\n",
    "    if i % 10000 == 0:\n",
    "        print(f'Batch: {i}, loss: {loss.item()}')"
   ]
  },
  {
   "cell_type": "code",
   "execution_count": 284,
   "metadata": {},
   "outputs": [
    {
     "data": {
      "text/plain": [
       "[<matplotlib.lines.Line2D at 0x28aa55d90>]"
      ]
     },
     "execution_count": 284,
     "metadata": {},
     "output_type": "execute_result"
    },
    {
     "data": {
      "image/png": "[encoded data removed]",
      "text/plain": [
       "<Figure size 640x480 with 1 Axes>"
      ]
     },
     "metadata": {},
     "output_type": "display_data"
    }
   ],
   "source": [
    "plt.plot(stepi, lossi)"
   ]
  },
  {
   "cell_type": "code",
   "execution_count": 285,
   "metadata": {},
   "outputs": [
    {
     "data": {
      "text/plain": [
       "[<matplotlib.lines.Line2D at 0x2d5b2e180>]"
      ]
     },
     "execution_count": 285,
     "metadata": {},
     "output_type": "execute_result"
    },
    {
     "data": {
      "image/png": "[encoded data removed]",
      "text/plain": [
       "<Figure size 640x480 with 1 Axes>"
      ]
     },
     "metadata": {},
     "output_type": "display_data"
    }
   ],
   "source": [
    "plt.plot(stepi, dead_neurons)"
   ]
  },
  {
   "cell_type": "code",
   "execution_count": 282,
   "metadata": {},
   "outputs": [
    {
     "data": {
      "text/plain": [
       "132"
      ]
     },
     "execution_count": 282,
     "metadata": {},
     "output_type": "execute_result"
    }
   ],
   "source": [
    "torch.sum((W1.grad == 0).int()).item()"
   ]
  },
  {
   "cell_type": "code",
   "execution_count": 224,
   "metadata": {},
   "outputs": [
    {
     "data": {
      "image/png": "[encoded data removed]",
      "text/plain": [
       "<Figure size 800x800 with 1 Axes>"
      ]
     },
     "metadata": {},
     "output_type": "display_data"
    }
   ],
   "source": [
    "\n",
    "# visualize dimensions 0 and 1 of the embedding matrix C for all characters\n",
    "plt.figure(figsize=(8,8))\n",
    "plt.scatter(C[:,0].data, C[:,1].data, s=200)\n",
    "for i in range(C.shape[0]):\n",
    "    plt.text(C[i,0].item(), C[i,1].item(), itos[i], ha=\"center\", va=\"center\", color='white')\n",
    "plt.grid('minor')"
   ]
  },
  {
   "cell_type": "code",
   "execution_count": 293,
   "metadata": {},
   "outputs": [
    {
     "name": "stdout",
     "output_type": "stream",
     "text": [
      "jikanielasa\n",
      "sakbifberya\n",
      "eeo.\n",
      "shainelle.\n",
      "lamelrija.\n",
      "mezeno.\n",
      "maseleelysi\n",
      "mila.\n",
      "leah.\n",
      "ezg.\n"
     ]
    }
   ],
   "source": [
    "# Test it out\n",
    "\n",
    "for _ in range(10):\n",
    "    out = []\n",
    "    idx = 0\n",
    "    context = [0] * block_size\n",
    "    while True:\n",
    "        emd = C[context].view((1, block_size*m_dim))\n",
    "        #z1 = F.leaky_relu(emd @ W1 + b1)\n",
    "        z1 = F.relu(emd @ W1 + b1)\n",
    "        z2 = F.softmax(z1 @ W2 + b2, dim=1)\n",
    "        idx = torch.multinomial(z2, num_samples=1, replacement=True).item()\n",
    "        out.append(itos[idx])\n",
    "        context = context[1:] + [idx]\n",
    "        if idx == 0:\n",
    "            break\n",
    "\n",
    "        # debug infinite loops...\n",
    "        if len(out) > 10:\n",
    "            break\n",
    "    \n",
    "    print(''.join(out))"
   ]
  },
  {
   "cell_type": "code",
   "execution_count": 433,
   "metadata": {},
   "outputs": [
    {
     "data": {
      "text/plain": [
       "[<matplotlib.lines.Line2D at 0x2f437bb30>]"
      ]
     },
     "execution_count": 433,
     "metadata": {},
     "output_type": "execute_result"
    },
    {
     "data": {
      "image/png": "[encoded data removed]",
      "text/plain": [
       "<Figure size 640x480 with 1 Axes>"
      ]
     },
     "metadata": {},
     "output_type": "display_data"
    }
   ],
   "source": [
    "lre = torch.linspace(-3, 0, 100)\n",
    "`\n",
    "# Exponentially spaced learning rates, don't linearly space rates, linearly space exponents\n",
    "plt.plot(10**lre)"
   ]
  },
  {
   "cell_type": "markdown",
   "metadata": {},
   "source": [
    "# Using Pytorch for the model building instead of manual layer building"
   ]
  },
  {
   "cell_type": "code",
   "execution_count": null,
   "metadata": {},
   "outputs": [],
   "source": [
    "#### Data prep\n",
    "\n",
    "def build_dataset(in_words):\n",
    "    # Create the dataset, where the inputs are a trigram context window -> outputs are the next character\n",
    "    X, Y = [], []\n",
    "    \n",
    "    for w in in_words:\n",
    "        w = w + '.'\n",
    "        context = [0] * block_size\n",
    "        for char in list(w):\n",
    "            X.append(context)\n",
    "            Y.append(stoi[char])\n",
    "            context = context[1:] + [stoi[char]]\n",
    "    \n",
    "    X = torch.tensor(X)\n",
    "    Y = torch.tensor(Y)\n",
    "    return X, Y\n",
    "\n",
    "\n",
    "import random\n",
    "random.shuffle(words)\n",
    "n1 = int(0.8*len(words))\n",
    "n2 = int(0.9*len(words))\n",
    "\n",
    "X_train, Y_train = build_dataset(words[:n1])\n",
    "X_dev, Y_dev = build_dataset(words[n1:n2])\n",
    "X_test, Y_test = build_dataset(words[n2:])"
   ]
  },
  {
   "cell_type": "code",
   "execution_count": null,
   "metadata": {},
   "outputs": [],
   "source": [
    "#### Hyperparameters\n",
    "\n",
    "# Num of features for each tri-gram embedding to learn\n",
    "m_dim = 2\n",
    "\n",
    "# possible characters, the vocabulary size, this isn't actually tuneable as its len(alphas) + 1 for delimiter\n",
    "v = 27\n",
    "\n",
    "# Number of neurons in hidden layer\n",
    "h = 128\n",
    "\n",
    "# This is n in the paper, the size of the \"context\" or look-back window\n",
    "block_size = n = 3"
   ]
  },
  {
   "cell_type": "code",
   "execution_count": 324,
   "metadata": {},
   "outputs": [
    {
     "name": "stdout",
     "output_type": "stream",
     "text": [
      "torch.Size([32, 3])\n",
      "torch.Size([32, 3, 2])\n",
      "torch.Size([32, 6])\n"
     ]
    }
   ],
   "source": [
    "embedding = nn.Embedding(v, m_dim)\n",
    "\n",
    "idxs = torch.randint(0, X_train.shape[0], (batch_size,))\n",
    "idx = X_train[idxs]\n",
    "emb = embedding(idx)\n",
    "\n",
    "print(idx.shape)\n",
    "print(emb.shape)\n",
    "print(emb.view(-1, 6).shape)"
   ]
  },
  {
   "cell_type": "code",
   "execution_count": 339,
   "metadata": {},
   "outputs": [],
   "source": [
    "device = \"cpu\"\n",
    "if torch.cuda.is_available():\n",
    "    device = \"cuda\"\n",
    "elif torch.backends.mps.is_available():\n",
    "    # mps backend is slower than CPU for this model somehow...\n",
    "    #device = \"mps\"\n",
    "    pass\n",
    "\n",
    "class Model(nn.Module):\n",
    "  def __init__(self):\n",
    "    super().__init__()\n",
    "    self.embedding = nn.Embedding(v, m_dim)\n",
    "    self.linear_relu_stack = nn.Sequential(\n",
    "        # W1/b1 hidden layer\n",
    "        nn.Linear(block_size*m_dim, h),\n",
    "        nn.ReLU(),\n",
    "        # W2/b2 output layer\n",
    "        nn.Linear(h, v)\n",
    "        # Can return logits without normalization if using cross entropy loss\n",
    "    )\n",
    "\n",
    "  def forward(self, x):\n",
    "    # C embedding matrix\n",
    "    emb = self.embedding(x).view(-1, block_size*m_dim)\n",
    "    logits = self.linear_relu_stack(emb)\n",
    "    return logits\n",
    "\n",
    "model = Model().to(device)"
   ]
  },
  {
   "cell_type": "code",
   "execution_count": 342,
   "metadata": {},
   "outputs": [
    {
     "name": "stdout",
     "output_type": "stream",
     "text": [
      "Epoch: 1\n",
      "---------------------------------\n",
      "test erorr -- acc: 28.920046875, avg loss: 2.2847751725935934\n",
      "test erorr -- acc: 29.048593750000002, avg loss: 2.2736720143038034\n"
     ]
    }
   ],
   "source": [
    "batch_size = 32\n",
    "\n",
    "def train_loop(data, labels, model, loss_fn, optimizer):\n",
    "  size = data.shape[0]\n",
    "  model.train()\n",
    "  for batch in range(200000):\n",
    "    idxs = torch.randint(0, data.shape[0], (batch_size,))\n",
    "    idx = data[idxs]\n",
    "\n",
    "    pred = model(idx.to(device))\n",
    "    loss = loss_fn(pred, labels[idxs].to(device))\n",
    "\n",
    "    loss.backward()\n",
    "    optimizer.step()\n",
    "    optimizer.zero_grad()\n",
    "\n",
    "    if batch % 10000 == 0:\n",
    "      loss, current = loss.item(), batch * batch_size\n",
    "      print(f'loss: {loss} [{current} / {size}]')\n",
    "\n",
    "def test_loop(data, labels, model, loss_fn):\n",
    "  model.eval()\n",
    "  num_batches = 200000\n",
    "  size = num_batches * batch_size\n",
    "  test_loss, correct = 0, 0\n",
    "\n",
    "  with torch.no_grad():\n",
    "    for batch in range(200000):\n",
    "        idxs = torch.randint(0, data.shape[0], (batch_size,))\n",
    "        idx = data[idxs]\n",
    "        pred = model(idx.to(device))\n",
    "        test_loss += loss_fn(pred, labels[idxs].to(device)).item()\n",
    "        correct += (pred.argmax(1) == labels[idxs]).type(torch.float).sum().item()\n",
    "\n",
    "  test_loss /= num_batches\n",
    "  correct /= size\n",
    "  print(f'test erorr -- acc: {100*correct}, avg loss: {test_loss}')\n",
    "\n",
    "\n",
    "learning_rate = 0.1\n",
    "epochs = 1\n",
    "loss_fn = nn.CrossEntropyLoss()\n",
    "optimizer = torch.optim.SGD(model.parameters(), lr=learning_rate)\n",
    "\n",
    "for t in range(epochs):\n",
    "  print(f'Epoch: {t+1}\\n---------------------------------')\n",
    "  train_loop(X_train, Y_train, model, loss_fn, optimizer)\n",
    "  # Validation test\n",
    "  test_loop(X_dev, Y_dev, model, loss_fn)\n",
    "\n",
    "# Final test\n",
    "test_loop(X_test, Y_test, model, loss_fn)"
   ]
  },
  {
   "cell_type": "code",
   "execution_count": 376,
   "metadata": {},
   "outputs": [
    {
     "name": "stdout",
     "output_type": "stream",
     "text": [
      "deivonnathia.\n",
      "ka.\n",
      "benindahadarli.\n",
      "amahr.\n",
      "arcsh.\n",
      "brah.\n",
      "raymomi.\n",
      "lula.\n",
      "boraila.\n",
      "jerna.\n"
     ]
    },
    {
     "name": "stderr",
     "output_type": "stream",
     "text": [
      "/var/folders/3_/f7_6qhkx52b541cy70qyg15w0000gn/T/ipykernel_40098/1636299094.py:10: UserWarning: Implicit dimension choice for softmax has been deprecated. Change the call to include dim=X as an argument.\n",
      "  idx = torch.multinomial(F.softmax(pred), num_samples=1, replacement=True).item()\n"
     ]
    }
   ],
   "source": [
    "# Test it out\n",
    "\n",
    "for _ in range(10):\n",
    "    out = []\n",
    "    idx = 0\n",
    "    context = torch.tensor([0] * block_size)\n",
    "    while True:\n",
    "        with torch.no_grad():\n",
    "            pred = model(context)\n",
    "            idx = torch.multinomial(F.softmax(pred), num_samples=1, replacement=True).item()\n",
    "            out.append(itos[idx])\n",
    "            context = torch.cat((context[1:], torch.tensor([idx])))\n",
    "            if idx == 0:\n",
    "                break\n",
    "    \n",
    "    print(''.join(out))"
   ]
  },
  {
   "cell_type": "markdown",
   "metadata": {},
   "source": [
    "# My initial attempt at reproduction..."
   ]
  },
  {
   "cell_type": "code",
   "execution_count": 175,
   "metadata": {},
   "outputs": [],
   "source": [
    "# Hyperparameters\n",
    "m_dim = 2 # Num of features for each tri-gram embedding to learn\n",
    "v = 27    # possible characters, the vocabulary size\n",
    "h = 128    # Number of neurons in hidden layer\n",
    "\n",
    "#################################################################\n",
    "# From the paper, outputs are given by:\n",
    "#     y = b + Wx + Utanh(d + Hx)\n",
    "#\n",
    "# b = the output biases\n",
    "# d = hidden layer biases\n",
    "# U = hidden to output weights\n",
    "# H = hidden layer weights\n",
    "#\n",
    "# We omit W, which allows for a direct input weight to output connection, giving:\n",
    "#     y = b + Utanh(d + Hx)\n",
    "#################################################################\n",
    "\n",
    "# C is the mapping of m-dimensional feature vectors for each of the characters.\n",
    "C = torch.rand((v, m_dim))\n",
    "\n",
    "# Hidden layer weights\n",
    "# Paper says the size is (h x (block_size - 1)m_dim)\n",
    "#H = torch.rand((h, (block_size-1)*m_dim), requires_grad=True)\n",
    "# TODO: But I don't understand why the size is not (h x (block_size * m_dim)), lets go with that for now...\n",
    "H = torch.rand((h, (block_size*m_dim)), requires_grad=True)\n",
    "\n",
    "# Biases for the hidden layer\n",
    "d = torch.rand((h, 1), requires_grad=True)\n",
    "\n",
    "# Hidden to output weights\n",
    "# Size (|V| x h)\n",
    "U = torch.rand((v, h), requires_grad=True)\n",
    "\n",
    "# Biases for output\n",
    "b = torch.rand((v, 1), requires_grad=True)"
   ]
  },
  {
   "cell_type": "code",
   "execution_count": 176,
   "metadata": {},
   "outputs": [
    {
     "data": {
      "text/plain": [
       "torch.Size([6, 32])"
      ]
     },
     "execution_count": 176,
     "metadata": {},
     "output_type": "execute_result"
    }
   ],
   "source": [
    "# In order to multiple with H (size -> h x block_size*m_dim), our input matrix x\n",
    "# needs to be of shape (block_size*m_dim x num_examples)\n",
    "inputs = C[X].permute(1, 2, 0).reshape((block_size*m_dim, len(X)))\n",
    "inputs.shape"
   ]
  },
  {
   "cell_type": "code",
   "execution_count": 178,
   "metadata": {},
   "outputs": [
    {
     "data": {
      "text/plain": [
       "tensor([[       inf,        inf,        inf,        inf,        inf,        inf,\n",
       "                inf,        inf,        inf,        inf,        inf,        inf,\n",
       "                inf,        inf,        inf,        inf,        inf,        inf,\n",
       "                inf,        inf,        inf,        inf,        inf,        inf,\n",
       "                inf,        inf,        inf,        inf,        inf,        inf,\n",
       "                inf,        inf],\n",
       "        [       inf,        inf,        inf,        inf,        inf,        inf,\n",
       "                inf,        inf,        inf,        inf,        inf,        inf,\n",
       "                inf,        inf,        inf,        inf,        inf,        inf,\n",
       "                inf,        inf,        inf,        inf,        inf,        inf,\n",
       "                inf,        inf,        inf,        inf,        inf,        inf,\n",
       "                inf,        inf],\n",
       "        [       inf,        inf,        inf,        inf,        inf,        inf,\n",
       "                inf,        inf,        inf,        inf,        inf,        inf,\n",
       "                inf,        inf,        inf,        inf,        inf,        inf,\n",
       "                inf,        inf,        inf,        inf,        inf,        inf,\n",
       "                inf,        inf,        inf,        inf,        inf,        inf,\n",
       "                inf,        inf],\n",
       "        [       inf,        inf,        inf,        inf,        inf,        inf,\n",
       "                inf,        inf,        inf,        inf,        inf,        inf,\n",
       "                inf,        inf,        inf,        inf,        inf,        inf,\n",
       "                inf,        inf,        inf,        inf,        inf,        inf,\n",
       "                inf,        inf,        inf,        inf,        inf,        inf,\n",
       "                inf,        inf],\n",
       "        [       inf,        inf,        inf,        inf,        inf,        inf,\n",
       "                inf,        inf,        inf,        inf,        inf,        inf,\n",
       "         2.1569e+38, 2.1569e+38, 2.1569e+38, 2.1569e+38,        inf,        inf,\n",
       "                inf,        inf,        inf,        inf,        inf,        inf,\n",
       "                inf,        inf,        inf,        inf,        inf,        inf,\n",
       "                inf,        inf],\n",
       "        [       inf,        inf,        inf,        inf,        inf,        inf,\n",
       "                inf,        inf,        inf,        inf,        inf,        inf,\n",
       "                inf,        inf,        inf,        inf,        inf,        inf,\n",
       "                inf,        inf,        inf,        inf,        inf,        inf,\n",
       "                inf,        inf,        inf,        inf,        inf,        inf,\n",
       "                inf,        inf],\n",
       "        [       inf,        inf,        inf,        inf,        inf,        inf,\n",
       "                inf,        inf,        inf,        inf,        inf,        inf,\n",
       "                inf,        inf,        inf,        inf,        inf,        inf,\n",
       "                inf,        inf,        inf,        inf,        inf,        inf,\n",
       "                inf,        inf,        inf,        inf,        inf,        inf,\n",
       "                inf,        inf],\n",
       "        [       inf,        inf,        inf,        inf,        inf,        inf,\n",
       "                inf,        inf,        inf,        inf,        inf,        inf,\n",
       "                inf,        inf,        inf,        inf,        inf,        inf,\n",
       "                inf,        inf,        inf,        inf,        inf,        inf,\n",
       "                inf,        inf,        inf,        inf,        inf,        inf,\n",
       "                inf,        inf],\n",
       "        [       inf,        inf,        inf,        inf,        inf,        inf,\n",
       "                inf,        inf,        inf,        inf,        inf,        inf,\n",
       "                inf,        inf,        inf,        inf,        inf,        inf,\n",
       "                inf,        inf,        inf,        inf,        inf,        inf,\n",
       "                inf,        inf,        inf,        inf,        inf,        inf,\n",
       "                inf,        inf],\n",
       "        [       inf,        inf,        inf,        inf,        inf,        inf,\n",
       "                inf,        inf,        inf,        inf,        inf,        inf,\n",
       "                inf,        inf,        inf,        inf,        inf,        inf,\n",
       "                inf,        inf,        inf,        inf,        inf,        inf,\n",
       "                inf,        inf,        inf,        inf,        inf,        inf,\n",
       "                inf,        inf],\n",
       "        [       inf,        inf,        inf,        inf,        inf,        inf,\n",
       "                inf,        inf,        inf,        inf,        inf,        inf,\n",
       "                inf,        inf,        inf,        inf,        inf,        inf,\n",
       "                inf,        inf,        inf,        inf,        inf,        inf,\n",
       "                inf,        inf,        inf,        inf,        inf,        inf,\n",
       "                inf,        inf],\n",
       "        [       inf,        inf,        inf,        inf,        inf,        inf,\n",
       "                inf,        inf,        inf,        inf,        inf,        inf,\n",
       "                inf,        inf,        inf,        inf,        inf,        inf,\n",
       "                inf,        inf,        inf,        inf,        inf,        inf,\n",
       "                inf,        inf,        inf,        inf,        inf,        inf,\n",
       "                inf,        inf],\n",
       "        [       inf,        inf,        inf,        inf,        inf,        inf,\n",
       "                inf,        inf,        inf,        inf,        inf,        inf,\n",
       "                inf,        inf,        inf,        inf,        inf,        inf,\n",
       "                inf,        inf,        inf,        inf,        inf,        inf,\n",
       "                inf,        inf,        inf,        inf,        inf,        inf,\n",
       "                inf,        inf],\n",
       "        [       inf,        inf,        inf,        inf,        inf,        inf,\n",
       "                inf,        inf,        inf,        inf,        inf,        inf,\n",
       "                inf,        inf,        inf,        inf,        inf,        inf,\n",
       "                inf,        inf,        inf,        inf,        inf,        inf,\n",
       "                inf,        inf,        inf,        inf,        inf,        inf,\n",
       "                inf,        inf],\n",
       "        [       inf,        inf,        inf,        inf,        inf,        inf,\n",
       "                inf,        inf,        inf,        inf,        inf,        inf,\n",
       "         7.2392e+37, 7.2392e+37, 7.2392e+37, 7.2392e+37,        inf,        inf,\n",
       "                inf,        inf,        inf,        inf,        inf,        inf,\n",
       "                inf,        inf,        inf,        inf,        inf,        inf,\n",
       "                inf,        inf],\n",
       "        [       inf,        inf,        inf,        inf,        inf,        inf,\n",
       "                inf,        inf,        inf,        inf,        inf,        inf,\n",
       "                inf,        inf,        inf,        inf,        inf,        inf,\n",
       "                inf,        inf,        inf,        inf,        inf,        inf,\n",
       "                inf,        inf,        inf,        inf,        inf,        inf,\n",
       "                inf,        inf],\n",
       "        [       inf,        inf,        inf,        inf,        inf,        inf,\n",
       "                inf,        inf,        inf,        inf,        inf,        inf,\n",
       "                inf,        inf,        inf,        inf,        inf,        inf,\n",
       "                inf,        inf,        inf,        inf,        inf,        inf,\n",
       "                inf,        inf,        inf,        inf,        inf,        inf,\n",
       "                inf,        inf],\n",
       "        [       inf,        inf,        inf,        inf,        inf,        inf,\n",
       "                inf,        inf,        inf,        inf,        inf,        inf,\n",
       "                inf,        inf,        inf,        inf,        inf,        inf,\n",
       "                inf,        inf,        inf,        inf,        inf,        inf,\n",
       "                inf,        inf,        inf,        inf,        inf,        inf,\n",
       "                inf,        inf],\n",
       "        [       inf,        inf,        inf,        inf,        inf,        inf,\n",
       "                inf,        inf,        inf,        inf,        inf,        inf,\n",
       "                inf,        inf,        inf,        inf,        inf,        inf,\n",
       "                inf,        inf,        inf,        inf,        inf,        inf,\n",
       "                inf,        inf,        inf,        inf,        inf,        inf,\n",
       "                inf,        inf],\n",
       "        [       inf,        inf,        inf,        inf,        inf,        inf,\n",
       "                inf,        inf,        inf,        inf,        inf,        inf,\n",
       "                inf,        inf,        inf,        inf,        inf,        inf,\n",
       "                inf,        inf,        inf,        inf,        inf,        inf,\n",
       "                inf,        inf,        inf,        inf,        inf,        inf,\n",
       "                inf,        inf],\n",
       "        [       inf,        inf,        inf,        inf,        inf,        inf,\n",
       "                inf,        inf,        inf,        inf,        inf,        inf,\n",
       "                inf,        inf,        inf,        inf,        inf,        inf,\n",
       "                inf,        inf,        inf,        inf,        inf,        inf,\n",
       "                inf,        inf,        inf,        inf,        inf,        inf,\n",
       "                inf,        inf],\n",
       "        [       inf,        inf,        inf,        inf,        inf,        inf,\n",
       "                inf,        inf,        inf,        inf,        inf,        inf,\n",
       "                inf,        inf,        inf,        inf,        inf,        inf,\n",
       "                inf,        inf,        inf,        inf,        inf,        inf,\n",
       "                inf,        inf,        inf,        inf,        inf,        inf,\n",
       "                inf,        inf],\n",
       "        [       inf,        inf,        inf,        inf,        inf,        inf,\n",
       "                inf,        inf,        inf,        inf,        inf,        inf,\n",
       "                inf,        inf,        inf,        inf,        inf,        inf,\n",
       "                inf,        inf,        inf,        inf,        inf,        inf,\n",
       "                inf,        inf,        inf,        inf,        inf,        inf,\n",
       "                inf,        inf],\n",
       "        [       inf,        inf,        inf,        inf,        inf,        inf,\n",
       "                inf,        inf,        inf,        inf,        inf,        inf,\n",
       "                inf,        inf,        inf,        inf,        inf,        inf,\n",
       "                inf,        inf,        inf,        inf,        inf,        inf,\n",
       "                inf,        inf,        inf,        inf,        inf,        inf,\n",
       "                inf,        inf],\n",
       "        [       inf,        inf,        inf,        inf,        inf,        inf,\n",
       "                inf,        inf,        inf,        inf,        inf,        inf,\n",
       "                inf,        inf,        inf,        inf,        inf,        inf,\n",
       "                inf,        inf,        inf,        inf,        inf,        inf,\n",
       "                inf,        inf,        inf,        inf,        inf,        inf,\n",
       "                inf,        inf],\n",
       "        [       inf,        inf,        inf,        inf,        inf,        inf,\n",
       "                inf,        inf,        inf,        inf,        inf,        inf,\n",
       "                inf,        inf,        inf,        inf,        inf,        inf,\n",
       "                inf,        inf,        inf,        inf,        inf,        inf,\n",
       "                inf,        inf,        inf,        inf,        inf,        inf,\n",
       "                inf,        inf],\n",
       "        [       inf,        inf,        inf,        inf,        inf,        inf,\n",
       "                inf,        inf,        inf,        inf,        inf,        inf,\n",
       "                inf,        inf,        inf,        inf,        inf,        inf,\n",
       "                inf,        inf,        inf,        inf,        inf,        inf,\n",
       "                inf,        inf,        inf,        inf,        inf,        inf,\n",
       "                inf,        inf]], grad_fn=<ExpBackward0>)"
      ]
     },
     "execution_count": 178,
     "metadata": {},
     "output_type": "execute_result"
    }
   ],
   "source": [
    "inputs = C[X].permute(1, 2, 0).reshape((block_size*m_dim, len(X)))\n",
    "Z = F.relu((H @ inputs) + d)\n",
    "\n",
    "logits = (U @ Z) + b\n",
    "# Why is this inf?\n",
    "counts = logits.exp()\n",
    "\n",
    "counts"
   ]
  }
 ],
 "metadata": {
  "colab": {
   "provenance": []
  },
  "kernelspec": {
   "display_name": "Python 3 (ipykernel)",
   "language": "python",
   "name": "python3"
  },
  "language_info": {
   "codemirror_mode": {
    "name": "ipython",
    "version": 3
   },
   "file_extension": ".py",
   "mimetype": "text/x-python",
   "name": "python",
   "nbconvert_exporter": "python",
   "pygments_lexer": "ipython3",
   "version": "3.12.2"
  }
 },
 "nbformat": 4,
 "nbformat_minor": 4
}
